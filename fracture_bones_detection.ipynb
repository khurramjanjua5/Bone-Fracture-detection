{
  "metadata": {
    "kernelspec": {
      "language": "python",
      "display_name": "Python 3",
      "name": "python3"
    },
    "language_info": {
      "name": "python",
      "version": "3.10.13",
      "mimetype": "text/x-python",
      "codemirror_mode": {
        "name": "ipython",
        "version": 3
      },
      "pygments_lexer": "ipython3",
      "nbconvert_exporter": "python",
      "file_extension": ".py"
    },
    "kaggle": {
      "accelerator": "nvidiaTeslaT4",
      "dataSources": [
        {
          "sourceId": 4507366,
          "sourceType": "datasetVersion",
          "datasetId": 2634341
        }
      ],
      "dockerImageVersionId": 30674,
      "isInternetEnabled": true,
      "language": "python",
      "sourceType": "notebook",
      "isGpuEnabled": true
    },
    "colab": {
      "provenance": [],
      "include_colab_link": true
    }
  },
  "nbformat_minor": 0,
  "nbformat": 4,
  "cells": [
    {
      "cell_type": "markdown",
      "metadata": {
        "id": "view-in-github",
        "colab_type": "text"
      },
      "source": [
        "<a href=\"https://colab.research.google.com/github/khurramjanjua5/Bone-Fracture-detection/blob/main/fracture_bones_detection.ipynb\" target=\"_parent\"><img src=\"https://colab.research.google.com/assets/colab-badge.svg\" alt=\"Open In Colab\"/></a>"
      ]
    },
    {
      "cell_type": "code",
      "source": [
        "import cv2\n",
        "import os\n",
        "import tensorflow as tf\n",
        "import tensorflow_hub as hub\n",
        "import matplotlib.pyplot as plt\n",
        "from glob import glob\n",
        "from tensorflow.keras.layers import Conv2D, MaxPooling2D, Dropout, BatchNormalization, Flatten, Dense\n",
        "from tensorflow.keras.preprocessing.image import ImageDataGenerator\n",
        "from tensorflow.keras.models import Model\n",
        "from tensorflow.keras.optimizers import Adam\n"
      ],
      "metadata": {
        "_uuid": "8f2839f25d086af736a60e9eeb907d3b93b6e0e5",
        "_cell_guid": "b1076dfc-b9ad-4769-8c92-a6c4dae69d19",
        "execution": {
          "iopub.status.busy": "2024-03-26T21:08:20.995689Z",
          "iopub.execute_input": "2024-03-26T21:08:20.996270Z",
          "iopub.status.idle": "2024-03-26T21:08:21.002211Z",
          "shell.execute_reply.started": "2024-03-26T21:08:20.996241Z",
          "shell.execute_reply": "2024-03-26T21:08:21.001248Z"
        },
        "trusted": true,
        "id": "xQXqjt436i-v"
      },
      "execution_count": null,
      "outputs": []
    },
    {
      "cell_type": "code",
      "source": [
        "from tensorflow.keras.callbacks import EarlyStopping, LearningRateScheduler\n",
        "import math\n",
        "\n",
        "# Define a more aggressive data augmentation for the training data\n",
        "train_datagenerator = ImageDataGenerator(\n",
        "    rescale=1.0/255,\n",
        "    shear_range=0.2,\n",
        "    zoom_range=0.5,\n",
        "    horizontal_flip=True,\n",
        "    rotation_range=30,\n",
        "    width_shift_range=0.2,\n",
        "    height_shift_range=0.2,\n",
        "    brightness_range=[0.5, 1.5],\n",
        "    fill_mode='nearest'\n",
        ")\n",
        "\n",
        "test_datagenerator = ImageDataGenerator(rescale = 1.0/255)"
      ],
      "metadata": {
        "execution": {
          "iopub.status.busy": "2024-03-26T21:08:41.210001Z",
          "iopub.execute_input": "2024-03-26T21:08:41.210690Z",
          "iopub.status.idle": "2024-03-26T21:08:41.219802Z",
          "shell.execute_reply.started": "2024-03-26T21:08:41.210650Z",
          "shell.execute_reply": "2024-03-26T21:08:41.218965Z"
        },
        "trusted": true,
        "id": "rDAgFeAn6i-z"
      },
      "execution_count": null,
      "outputs": []
    },
    {
      "cell_type": "code",
      "source": [
        "train_data = train_datagenerator.flow_from_directory('/kaggle/input/bone-fracture-detection-using-xrays/archive (6)/train',\n",
        "                                                    target_size=(224, 224),\n",
        "                                                    batch_size = 50,\n",
        "                                                    class_mode = 'categorical')\n",
        "val_data = test_datagenerator.flow_from_directory('/kaggle/input/bone-fracture-detection-using-xrays/archive (6)/val',\n",
        "                                                  target_size=(224, 224),\n",
        "                                                    batch_size = 50,\n",
        "                                                    class_mode = 'categorical')"
      ],
      "metadata": {
        "execution": {
          "iopub.status.busy": "2024-03-26T21:15:38.722975Z",
          "iopub.execute_input": "2024-03-26T21:15:38.723904Z",
          "iopub.status.idle": "2024-03-26T21:15:42.171594Z",
          "shell.execute_reply.started": "2024-03-26T21:15:38.723872Z",
          "shell.execute_reply": "2024-03-26T21:15:42.170694Z"
        },
        "trusted": true,
        "id": "Mzlp9ssI6i-0",
        "outputId": "536efaa6-c9c5-4f17-fb8f-f3cb2a3a0766"
      },
      "execution_count": null,
      "outputs": [
        {
          "name": "stdout",
          "text": "Found 8863 images belonging to 2 classes.\nFound 600 images belonging to 2 classes.\n",
          "output_type": "stream"
        }
      ]
    },
    {
      "cell_type": "code",
      "source": [
        "pretrained_model = tf.keras.applications.DenseNet121(\n",
        "    input_shape=(224, 224, 3),\n",
        "    include_top=False,\n",
        "    weights='imagenet',\n",
        "    pooling='avg'\n",
        ")"
      ],
      "metadata": {
        "execution": {
          "iopub.status.busy": "2024-03-26T22:04:36.470448Z",
          "iopub.execute_input": "2024-03-26T22:04:36.471318Z",
          "iopub.status.idle": "2024-03-26T22:04:39.167149Z",
          "shell.execute_reply.started": "2024-03-26T22:04:36.471281Z",
          "shell.execute_reply": "2024-03-26T22:04:39.166328Z"
        },
        "trusted": true,
        "id": "1j2edtBM6i-2",
        "outputId": "a2101ae6-eee0-454e-ed8a-d6e955886238"
      },
      "execution_count": null,
      "outputs": [
        {
          "name": "stdout",
          "text": "Downloading data from https://storage.googleapis.com/tensorflow/keras-applications/densenet/densenet121_weights_tf_dim_ordering_tf_kernels_notop.h5\n\u001b[1m29084464/29084464\u001b[0m \u001b[32m━━━━━━━━━━━━━━━━━━━━\u001b[0m\u001b[37m\u001b[0m \u001b[1m0s\u001b[0m 0us/step\n",
          "output_type": "stream"
        }
      ]
    },
    {
      "cell_type": "code",
      "source": [
        "def lr_schedule(epoch):\n",
        "    initial_lr = 0.001\n",
        "    decay_factor = 0.9\n",
        "    return initial_lr * math.pow(decay_factor, epoch)\n"
      ],
      "metadata": {
        "execution": {
          "iopub.status.busy": "2024-03-26T22:04:43.622415Z",
          "iopub.execute_input": "2024-03-26T22:04:43.623035Z",
          "iopub.status.idle": "2024-03-26T22:04:43.627525Z",
          "shell.execute_reply.started": "2024-03-26T22:04:43.623002Z",
          "shell.execute_reply": "2024-03-26T22:04:43.626688Z"
        },
        "trusted": true,
        "id": "muPwmvyT6i-2"
      },
      "execution_count": null,
      "outputs": []
    },
    {
      "cell_type": "code",
      "source": [
        "for layer in pretrained_model.layers[:-100]: #fine tune last 100 layers\n",
        "    layer.trainable = True\n"
      ],
      "metadata": {
        "execution": {
          "iopub.status.busy": "2024-03-26T22:04:47.478925Z",
          "iopub.execute_input": "2024-03-26T22:04:47.479268Z",
          "iopub.status.idle": "2024-03-26T22:04:47.486132Z",
          "shell.execute_reply.started": "2024-03-26T22:04:47.479242Z",
          "shell.execute_reply": "2024-03-26T22:04:47.485252Z"
        },
        "trusted": true,
        "id": "oSeio4mT6i-3"
      },
      "execution_count": null,
      "outputs": []
    },
    {
      "cell_type": "code",
      "source": [
        "early_stopping = EarlyStopping(monitor='val_loss', patience=5, restore_best_weights=True)"
      ],
      "metadata": {
        "execution": {
          "iopub.status.busy": "2024-03-26T22:06:50.255330Z",
          "iopub.execute_input": "2024-03-26T22:06:50.256065Z",
          "iopub.status.idle": "2024-03-26T22:06:50.260259Z",
          "shell.execute_reply.started": "2024-03-26T22:06:50.256033Z",
          "shell.execute_reply": "2024-03-26T22:06:50.259371Z"
        },
        "trusted": true,
        "id": "OncJYp6I6i-3"
      },
      "execution_count": null,
      "outputs": []
    },
    {
      "cell_type": "code",
      "source": [
        "model = tf.keras.Sequential([\n",
        "    pretrained_model,\n",
        "    tf.keras.layers.Dropout(0.5),\n",
        "    tf.keras.layers.Dense(128, activation='relu'),\n",
        "    tf.keras.layers.Dense(2, activation='softmax')\n",
        "])\n"
      ],
      "metadata": {
        "execution": {
          "iopub.status.busy": "2024-03-26T22:05:53.994460Z",
          "iopub.execute_input": "2024-03-26T22:05:53.995081Z",
          "iopub.status.idle": "2024-03-26T22:05:54.005664Z",
          "shell.execute_reply.started": "2024-03-26T22:05:53.995048Z",
          "shell.execute_reply": "2024-03-26T22:05:54.004682Z"
        },
        "trusted": true,
        "id": "FC0IyMt26i-4"
      },
      "execution_count": null,
      "outputs": []
    },
    {
      "cell_type": "code",
      "source": [],
      "metadata": {
        "trusted": true,
        "id": "Bh_3p0OY6i-4"
      },
      "execution_count": null,
      "outputs": []
    },
    {
      "cell_type": "code",
      "source": [
        "model.compile(optimizer='adam', loss='categorical_crossentropy', metrics=['accuracy'])\n"
      ],
      "metadata": {
        "execution": {
          "iopub.status.busy": "2024-03-26T22:05:57.799345Z",
          "iopub.execute_input": "2024-03-26T22:05:57.800211Z",
          "iopub.status.idle": "2024-03-26T22:05:57.809564Z",
          "shell.execute_reply.started": "2024-03-26T22:05:57.800178Z",
          "shell.execute_reply": "2024-03-26T22:05:57.808677Z"
        },
        "trusted": true,
        "id": "1LIJZjFZ6i-4"
      },
      "execution_count": null,
      "outputs": []
    },
    {
      "cell_type": "code",
      "source": [
        "history = model.fit(\n",
        "    train_data,\n",
        "    epochs=10,\n",
        "    validation_data=val_data,\n",
        "    callbacks=[early_stopping, LearningRateScheduler(lr_schedule)]\n",
        ")"
      ],
      "metadata": {
        "execution": {
          "iopub.status.busy": "2024-03-26T22:06:56.513787Z",
          "iopub.execute_input": "2024-03-26T22:06:56.514527Z",
          "iopub.status.idle": "2024-03-26T22:25:55.515245Z",
          "shell.execute_reply.started": "2024-03-26T22:06:56.514495Z",
          "shell.execute_reply": "2024-03-26T22:25:55.514325Z"
        },
        "trusted": true,
        "id": "b3mlCorc6i-5",
        "outputId": "a2ef6660-e440-41b9-a743-fe7593f89fb9"
      },
      "execution_count": null,
      "outputs": [
        {
          "name": "stdout",
          "text": "Epoch 1/10\n",
          "output_type": "stream"
        },
        {
          "name": "stderr",
          "text": "W0000 00:00:1711491003.613428     103 graph_launch.cc:671] Fallback to op-by-op mode because memset node breaks graph update\n",
          "output_type": "stream"
        },
        {
          "name": "stdout",
          "text": "\u001b[1m 13/178\u001b[0m \u001b[32m━\u001b[0m\u001b[37m━━━━━━━━━━━━━━━━━━━\u001b[0m \u001b[1m23:48\u001b[0m 9s/step - accuracy: 0.5735 - loss: 0.9346  ",
          "output_type": "stream"
        },
        {
          "name": "stderr",
          "text": "W0000 00:00:1711491107.771989     101 graph_launch.cc:671] Fallback to op-by-op mode because memset node breaks graph update\n",
          "output_type": "stream"
        },
        {
          "name": "stdout",
          "text": "\u001b[1m178/178\u001b[0m \u001b[32m━━━━━━━━━━━━━━━━━━━━\u001b[0m\u001b[37m\u001b[0m \u001b[1m0s\u001b[0m 1s/step - accuracy: 0.5410 - loss: 0.7997",
          "output_type": "stream"
        },
        {
          "name": "stderr",
          "text": "W0000 00:00:1711491229.349897     100 graph_launch.cc:671] Fallback to op-by-op mode because memset node breaks graph update\n",
          "output_type": "stream"
        },
        {
          "name": "stdout",
          "text": "\u001b[1m178/178\u001b[0m \u001b[32m━━━━━━━━━━━━━━━━━━━━\u001b[0m\u001b[37m\u001b[0m \u001b[1m415s\u001b[0m 1s/step - accuracy: 0.5411 - loss: 0.7993 - val_accuracy: 0.5717 - val_loss: 0.6468 - learning_rate: 0.0010\nEpoch 2/10\n\u001b[1m178/178\u001b[0m \u001b[32m━━━━━━━━━━━━━━━━━━━━\u001b[0m\u001b[37m\u001b[0m \u001b[1m121s\u001b[0m 652ms/step - accuracy: 0.6150 - loss: 0.6422 - val_accuracy: 0.6550 - val_loss: 0.5611 - learning_rate: 9.0000e-04\nEpoch 3/10\n\u001b[1m178/178\u001b[0m \u001b[32m━━━━━━━━━━━━━━━━━━━━\u001b[0m\u001b[37m\u001b[0m \u001b[1m121s\u001b[0m 651ms/step - accuracy: 0.6804 - loss: 0.5839 - val_accuracy: 0.6233 - val_loss: 0.6160 - learning_rate: 8.1000e-04\nEpoch 4/10\n\u001b[1m178/178\u001b[0m \u001b[32m━━━━━━━━━━━━━━━━━━━━\u001b[0m\u001b[37m\u001b[0m \u001b[1m120s\u001b[0m 648ms/step - accuracy: 0.7408 - loss: 0.5144 - val_accuracy: 0.6150 - val_loss: 1.4656 - learning_rate: 7.2900e-04\nEpoch 5/10\n\u001b[1m178/178\u001b[0m \u001b[32m━━━━━━━━━━━━━━━━━━━━\u001b[0m\u001b[37m\u001b[0m \u001b[1m119s\u001b[0m 642ms/step - accuracy: 0.8044 - loss: 0.4194 - val_accuracy: 0.6217 - val_loss: 1.2055 - learning_rate: 6.5610e-04\nEpoch 6/10\n\u001b[1m178/178\u001b[0m \u001b[32m━━━━━━━━━━━━━━━━━━━━\u001b[0m\u001b[37m\u001b[0m \u001b[1m121s\u001b[0m 651ms/step - accuracy: 0.8561 - loss: 0.3262 - val_accuracy: 0.6700 - val_loss: 0.8894 - learning_rate: 5.9049e-04\nEpoch 7/10\n\u001b[1m178/178\u001b[0m \u001b[32m━━━━━━━━━━━━━━━━━━━━\u001b[0m\u001b[37m\u001b[0m \u001b[1m122s\u001b[0m 655ms/step - accuracy: 0.9053 - loss: 0.2298 - val_accuracy: 0.7500 - val_loss: 1.5941 - learning_rate: 5.3144e-04\n",
          "output_type": "stream"
        }
      ]
    },
    {
      "cell_type": "code",
      "source": [
        "from PIL import Image\n",
        "import numpy as np\n",
        "image_path = '/kaggle/input/bone-fracture-detection-using-xrays/archive (6)/val/fractured/1-rotated1-rotated3-rotated3.jpg'\n",
        "image = Image.open(image_path)\n",
        "image = image.resize((224, 224))  # Resize to match the input shape of the model\n",
        "image = np.array(image) / 255.0  # Normalize pixel values to [0, 1]\n",
        "image = np.expand_dims(image, axis=0)  # Add batch dimension\n",
        "\n",
        "# Perform prediction\n",
        "predictions = model.predict(image)\n",
        "\n",
        "# Interpret predictions\n",
        "predicted_class = np.argmax(predictions)  # Get the index of the class with highest probability\n",
        "class_names = ['fractured', 'normal']  # Define class names\n",
        "predicted_class_name = class_names[predicted_class]\n",
        "\n",
        "print(\"Predicted class:\", predicted_class_name)"
      ],
      "metadata": {
        "execution": {
          "iopub.status.busy": "2024-03-26T22:29:41.872804Z",
          "iopub.execute_input": "2024-03-26T22:29:41.873432Z",
          "iopub.status.idle": "2024-03-26T22:29:41.959696Z",
          "shell.execute_reply.started": "2024-03-26T22:29:41.873394Z",
          "shell.execute_reply": "2024-03-26T22:29:41.958901Z"
        },
        "trusted": true,
        "id": "n24t8Mmw6i-5"
      },
      "execution_count": null,
      "outputs": []
    },
    {
      "cell_type": "code",
      "source": [],
      "metadata": {
        "id": "wU7HEkp-6i-5"
      },
      "execution_count": null,
      "outputs": []
    }
  ]
}